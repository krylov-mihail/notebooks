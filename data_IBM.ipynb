{
    "cells": [
        {
            "cell_type": "markdown",
            "metadata": {
                "collapsed": true
            },
            "source": "<h1>My Jupyter Notebook on IBM Watson Studio</h1>"
        },
        {
            "cell_type": "markdown",
            "metadata": {},
            "source": "<strong>Mikhail</strong><p>full-stack developer</p>"
        },
        {
            "cell_type": "markdown",
            "metadata": {},
            "source": "<i>I am interested in data science because  of all the cool stuff that can be achived by analysing the data</i>"
        },
        {
            "cell_type": "markdown",
            "metadata": {},
            "source": "<h3>My complex code  calucales the sum of 1+1</h3>"
        },
        {
            "cell_type": "code",
            "execution_count": 1,
            "metadata": {},
            "outputs": [
                {
                    "data": {
                        "text/plain": "2"
                    },
                    "execution_count": 1,
                    "metadata": {},
                    "output_type": "execute_result"
                }
            ],
            "source": "1+1"
        },
        {
            "cell_type": "markdown",
            "metadata": {},
            "source": "<p>Bullet list</p>\n<ul><li>item 1</li><li>item 2</li><li>item 3</li></ul>\n<p>Numbered list</p>\n<ol><li>item 1</li><li>item 2</li><li>item 3</li></ol> \n<p>Sample code</p>\n<code>var i = 1;\nvar j = 1;\nvar k = i+j;</code>\n"
        }
    ],
    "metadata": {
        "kernelspec": {
            "display_name": "Python 3.9",
            "language": "python",
            "name": "python3"
        },
        "language_info": {
            "codemirror_mode": {
                "name": "ipython",
                "version": 3
            },
            "file_extension": ".py",
            "mimetype": "text/x-python",
            "name": "python",
            "nbconvert_exporter": "python",
            "pygments_lexer": "ipython3",
            "version": "3.9.13"
        }
    },
    "nbformat": 4,
    "nbformat_minor": 1
}